{
  "nbformat": 4,
  "nbformat_minor": 0,
  "metadata": {
    "colab": {
      "name": "WebScraping.ipynb",
      "provenance": [],
      "collapsed_sections": [],
      "mount_file_id": "1s9wbfe48MKA5iPoddRC8aiuuY_GGLig_",
      "authorship_tag": "ABX9TyOC6kRtaRQEbGDmxahT84Us"
    },
    "kernelspec": {
      "name": "python3",
      "display_name": "Python 3"
    }
  },
  "cells": [
    {
      "cell_type": "code",
      "metadata": {
        "colab": {
          "base_uri": "https://localhost:8080/"
        },
        "id": "h6HJN98YCV2H",
        "outputId": "ebf823a7-5bb2-476e-ba55-f1019b8df1cc"
      },
      "source": [
        "!pip install beautifulsoup4"
      ],
      "execution_count": 1,
      "outputs": [
        {
          "output_type": "stream",
          "text": [
            "Requirement already satisfied: beautifulsoup4 in /usr/local/lib/python3.6/dist-packages (4.6.3)\n"
          ],
          "name": "stdout"
        }
      ]
    },
    {
      "cell_type": "code",
      "metadata": {
        "id": "jdfObXIIDInV"
      },
      "source": [
        "import requests\n",
        "from bs4 import BeautifulSoup\n",
        "import pandas as pd \n",
        "\n",
        "#opening up the connection with the URL\n",
        "url = \"https://store.playstation.com/en-my/category/7d7c7838-1ee7-44bc-a9fb-89148ab93899/1\"\n",
        "source = requests.get(url).text\n",
        "\n",
        "#html parsing\n",
        "soup = BeautifulSoup(source, 'html.parser')\n"
      ],
      "execution_count": 2,
      "outputs": []
    },
    {
      "cell_type": "code",
      "metadata": {
        "colab": {
          "base_uri": "https://localhost:8080/"
        },
        "id": "kdz3H5vqJLGG",
        "outputId": "5b6febc5-0ed9-49ee-a519-b723809dfd71"
      },
      "source": [
        "#grabs each product\n",
        "containers = soup.findAll(\"div\",{\"class\":\"ems-sdk-product-tile\"})\n",
        "\n",
        "#see the total length of the products that we selected\n",
        "len(containers)"
      ],
      "execution_count": 3,
      "outputs": [
        {
          "output_type": "execute_result",
          "data": {
            "text/plain": [
              "13"
            ]
          },
          "metadata": {
            "tags": []
          },
          "execution_count": 3
        }
      ]
    },
    {
      "cell_type": "code",
      "metadata": {
        "id": "pph0LIh2NAWs",
        "colab": {
          "base_uri": "https://localhost:8080/"
        },
        "outputId": "46a67a3b-807c-4ac2-f78c-02870db6c8fb"
      },
      "source": [
        "#get the html code of containers\n",
        "containers[0]"
      ],
      "execution_count": 4,
      "outputs": [
        {
          "output_type": "execute_result",
          "data": {
            "text/plain": [
              "<div class=\"ems-sdk-product-tile\" data-qa=\"ems-sdk-product-tile\" data-qa-index=\"0\"><a class=\"ems-sdk-product-tile-link\" data-telemetry-meta='{\"id\":\"JP0571-CUSA24959_00-HAMPRDC000000001\",\"index\":0,\"name\":\"Arcade Archives Green Beret (English, Japanese)\",\"price\":\"RM 33.00\"}' data-track-click=\"web:store:product-tile\" data-track-content=\"web:store:product-tile\" href=\"/en-my/product/JP0571-CUSA24959_00-HAMPRDC000000001\" title=\"Arcade Archives Green Beret (English, Japanese)\"><div class=\"ems-sdk-product-tile-image\" data-qa=\"ems-sdk-product-tile-image\"><div class=\"ems-sdk-product-tile-image__container\"><span class=\"psw-illustration psw-illustration--default-product-image default-product-img\" data-qa=\"\"><svg><title></title><use href=\"#ps-illustration:default-product-image\"></use></svg></span><span class=\"psw-media-frame psw-fill-x psw-image psw-aspect-1-1\" data-qa=\"ems-sdk-product-tile-image-img\" style=\"width:100%;min-width:100%\"><img alt=\"Arcade Archives Green Beret (English, Japanese)\" aria-hidden=\"true\" class=\"psw-blur psw-top-left psw-l-fit-cover\" data-qa=\"ems-sdk-product-tile-image-img#preview\" loading=\"lazy\" src=\"https://image.api.playstation.com/vulcan/ap/rnd/202011/1607/I915uitaRx4WkIyLY9J4caRr.png?w=54&amp;thumb=true\"/><noscript class=\"psw-layer\"><img alt=\"Arcade Archives Green Beret (English, Japanese)\" class=\"psw-top-left psw-l-fit-cover\" data-qa=\"ems-sdk-product-tile-image-img#image-no-js\" loading=\"lazy\" src=\"https://image.api.playstation.com/vulcan/ap/rnd/202011/1607/I915uitaRx4WkIyLY9J4caRr.png\"/></noscript></span></div><div class=\"ems-sdk-product-tile-image__badge-container psw-m-r-3xs\"><span class=\"psw-p-x-3xs ems-sdk-product-tile-image__badge\" data-qa=\"ems-sdk-product-tile-image-badge\">PS4</span></div></div><section class=\"ems-sdk-product-tile__details\" data-qa=\"ems-sdk-product-tile-details\"><span class=\"body-2 truncate-text-2 psw-p-t-2xs\" data-qa=\"ems-sdk-product-tile-name\">Arcade Archives Green Beret (English, Japanese)</span><div class=\"price__container\"><span class=\"price\" data-qa=\"ems-sdk-product-tile-price\">RM 33.00</span></div></section></a></div>"
            ]
          },
          "metadata": {
            "tags": []
          },
          "execution_count": 4
        }
      ]
    },
    {
      "cell_type": "code",
      "metadata": {
        "colab": {
          "base_uri": "https://localhost:8080/"
        },
        "id": "dHWMbZdiPtCf",
        "outputId": "4f1ba703-4095-4274-b196-40cf3b3d1659"
      },
      "source": [
        "%%writefile test.html\n",
        "\n",
        "< div class=\"ems-sdk-product-tile\" data - qa=\"ems-sdk-product-tile\" data - qa - index=\"0\">\n",
        "    < a class=\"ems-sdk-product-tile-link\" data - telemetry - meta='{\"id\":\"JP0571-CUSA24959_00-HAMPRDC000000001\",\"index\":0,\"name\":\"Arcade Archives Green Beret (English, Japanese)\",\"price\":\"RM 33.00\"}' data - track - click=\"web:store:product-tile\" data - track - content=\"web:store:product-tile\" href=\"/en-my/product/JP0571-CUSA24959_00-HAMPRDC000000001\" title=\"Arcade Archives Green Beret (English, Japanese)\">\n",
        "        < div class=\"ems-sdk-product-tile-image\" data - qa=\"ems-sdk-product-tile-image\">\n",
        "            < div class=\"ems-sdk-product-tile-image__container\">\n",
        "                < span class=\"psw-illustration psw-illustration--default-product-image default-product-img\" data - qa=\"\">\n",
        "                    < svg>\n",
        "                        < title>\n",
        "                            < /title>\n",
        "                                <use href=\"#ps-illustration:default-product-image\"></use>\n",
        "                                < /svg></span>\n",
        "                                    < span class=\"psw-media-frame psw-fill-x psw-image psw-aspect-1-1\" data - qa=\"ems-sdk-product-tile-image-img\" style=\"width:100%;min-width:100%\">\n",
        "                                        < img alt=\"Arcade Archives Green Beret (English, Japanese)\" aria - hidden=\"true\" class=\"psw-blur psw-top-left psw-l-fit-cover\" data - qa=\"ems-sdk-product-tile-image-img#preview\" loading=\"lazy\" src=\"https://image.api.playstation.com/vulcan/ap/rnd/202011/1607/I915uitaRx4WkIyLY9J4caRr.png?w=54&amp;thumb=true\" />\n",
        "                                        < noscript class=\"psw-layer\">\n",
        "                                            < img alt=\"Arcade Archives Green Beret (English, Japanese)\" class=\"psw-top-left psw-l-fit-cover\" data - qa=\"ems-sdk-product-tile-image-img#image-no-js\" loading=\"lazy\" src=\"https://image.api.playstation.com/vulcan/ap/rnd/202011/1607/I915uitaRx4WkIyLY9J4caRr.png\" />\n",
        "                                            < /noscript></span>\n",
        "                                                < /div>\n",
        "                                                    <div class=\"ems-sdk-product-tile-image__badge-container psw-m-r-3xs\"><span class=\"psw-p-x-3xs ems-sdk-product-tile-image__badge\" data-qa=\"ems-sdk-product-tile-image-badge\">PS4</span>\n",
        "                                                        < /div>\n",
        "                                                    </div>\n",
        "                                                    < section class=\"ems-sdk-product-tile__details\" data - qa=\"ems-sdk-product-tile-details\">\n",
        "                                                        < span class=\"body-2 truncate-text-2 psw-p-t-2xs\" data - qa=\"ems-sdk-product-tile-name\"> Arcade Archives Green Beret(English, Japanese) < /span>\n",
        "                                                                <div class=\"price__container\"><span class=\"price\" data-qa=\"ems-sdk-product-tile-price\">RM 33.00</span>\n",
        "                                                                    < /div>\n",
        "                                                                        </section>\n",
        "                                                                        < /a>\n",
        "                                                                </div>"
      ],
      "execution_count": 10,
      "outputs": [
        {
          "output_type": "stream",
          "text": [
            "Overwriting test.html\n"
          ],
          "name": "stdout"
        }
      ]
    },
    {
      "cell_type": "code",
      "metadata": {
        "colab": {
          "base_uri": "https://localhost:8080/",
          "height": 35
        },
        "id": "UN044UDoRzuR",
        "outputId": "c154eb55-21fd-4a11-ed59-5f716700de5c"
      },
      "source": [
        "container = containers[0]\n",
        "\n",
        "#scrap the name of product\n",
        "container.img[\"alt\"]\n"
      ],
      "execution_count": 11,
      "outputs": [
        {
          "output_type": "execute_result",
          "data": {
            "application/vnd.google.colaboratory.intrinsic+json": {
              "type": "string"
            },
            "text/plain": [
              "'Arcade Archives Green Beret (English, Japanese)'"
            ]
          },
          "metadata": {
            "tags": []
          },
          "execution_count": 11
        }
      ]
    },
    {
      "cell_type": "code",
      "metadata": {
        "colab": {
          "base_uri": "https://localhost:8080/",
          "height": 35
        },
        "id": "xlMX1VKJX8Fz",
        "outputId": "64df722e-1728-4962-e911-7b84d1aba9b6"
      },
      "source": [
        "#scrap the price of product\n",
        "price_container = container.findAll(\"span\",{\"class\":\"price\"})\n",
        "price_container[0].text"
      ],
      "execution_count": 12,
      "outputs": [
        {
          "output_type": "execute_result",
          "data": {
            "application/vnd.google.colaboratory.intrinsic+json": {
              "type": "string"
            },
            "text/plain": [
              "'RM 33.00'"
            ]
          },
          "metadata": {
            "tags": []
          },
          "execution_count": 12
        }
      ]
    },
    {
      "cell_type": "code",
      "metadata": {
        "colab": {
          "base_uri": "https://localhost:8080/",
          "height": 850
        },
        "id": "BWp4YpEyYGZy",
        "outputId": "5220a87c-acf1-42b4-b2b3-095910649694"
      },
      "source": [
        "#create an array to store all the scrap info\n",
        "#store the scrap info into dataframe\n",
        "scrap = []\n",
        "\n",
        "for container in containers:\n",
        "  product_name = container.img[\"alt\"]\n",
        "  price_container = container.findAll(\"span\",{\"class\":\"price\"})\n",
        "  product_price = price_container[0].text\n",
        "\n",
        "  print(product_name)\n",
        "  print(product_price)\n",
        "  print()\n",
        "\n",
        "  scrap.append([product_name,product_price])\n",
        "df = pd.DataFrame.from_records(data=scrap,columns=['product name','product price'])\n",
        "df.head()"
      ],
      "execution_count": 13,
      "outputs": [
        {
          "output_type": "stream",
          "text": [
            "Arcade Archives Green Beret (English, Japanese)\n",
            "RM 33.00\n",
            "\n",
            "Deadly Apparition Starter Pack (Simplified Chinese, English, Japanese)\n",
            "RM 20.00\n",
            "\n",
            "Dreaming Canvas (Simplified Chinese, English, Korean, Japanese, Traditional Chinese)\n",
            "RM 20.00\n",
            "\n",
            "Fluxteria (English/Chinese/Korean/Japanese Ver.)\n",
            "RM 20.00\n",
            "\n",
            "JigSaw Abundance (English/Chinese/Korean/Japanese Ver.)\n",
            "RM 20.00\n",
            "\n",
            "Just Dance 2021 (Simplified Chinese, English, Korean, Japanese, Traditional Chinese)\n",
            "RM 159.00\n",
            "\n",
            "Let's Sing 2021 Asia (Simplified Chinese, English, Traditional Chinese)\n",
            "RM 169.00\n",
            "\n",
            "Let's Sing 2021 中文版 Platinum Edition (Simplified Chinese, English, Traditional Chinese)\n",
            "RM 317.00\n",
            "\n",
            "More Dark (English Ver.)\n",
            "RM 20.00\n",
            "\n",
            "Nerved (Simplified Chinese, English, Korean, Japanese, Traditional Chinese)\n",
            "RM 39.00\n",
            "\n",
            "Sigi - A Fart for Melusina (English)\n",
            "RM 20.00\n",
            "\n",
            "Sigi - A Fart for Melusina (English)\n",
            "RM 23.00\n",
            "\n",
            "Warframe® (English)\n",
            "Free\n",
            "\n"
          ],
          "name": "stdout"
        },
        {
          "output_type": "execute_result",
          "data": {
            "text/html": [
              "<div>\n",
              "<style scoped>\n",
              "    .dataframe tbody tr th:only-of-type {\n",
              "        vertical-align: middle;\n",
              "    }\n",
              "\n",
              "    .dataframe tbody tr th {\n",
              "        vertical-align: top;\n",
              "    }\n",
              "\n",
              "    .dataframe thead th {\n",
              "        text-align: right;\n",
              "    }\n",
              "</style>\n",
              "<table border=\"1\" class=\"dataframe\">\n",
              "  <thead>\n",
              "    <tr style=\"text-align: right;\">\n",
              "      <th></th>\n",
              "      <th>product name</th>\n",
              "      <th>product price</th>\n",
              "    </tr>\n",
              "  </thead>\n",
              "  <tbody>\n",
              "    <tr>\n",
              "      <th>0</th>\n",
              "      <td>Arcade Archives Green Beret (English, Japanese)</td>\n",
              "      <td>RM 33.00</td>\n",
              "    </tr>\n",
              "    <tr>\n",
              "      <th>1</th>\n",
              "      <td>Deadly Apparition Starter Pack (Simplified Chi...</td>\n",
              "      <td>RM 20.00</td>\n",
              "    </tr>\n",
              "    <tr>\n",
              "      <th>2</th>\n",
              "      <td>Dreaming Canvas (Simplified Chinese, English, ...</td>\n",
              "      <td>RM 20.00</td>\n",
              "    </tr>\n",
              "    <tr>\n",
              "      <th>3</th>\n",
              "      <td>Fluxteria (English/Chinese/Korean/Japanese Ver.)</td>\n",
              "      <td>RM 20.00</td>\n",
              "    </tr>\n",
              "    <tr>\n",
              "      <th>4</th>\n",
              "      <td>JigSaw Abundance (English/Chinese/Korean/Japan...</td>\n",
              "      <td>RM 20.00</td>\n",
              "    </tr>\n",
              "  </tbody>\n",
              "</table>\n",
              "</div>"
            ],
            "text/plain": [
              "                                        product name product price\n",
              "0    Arcade Archives Green Beret (English, Japanese)      RM 33.00\n",
              "1  Deadly Apparition Starter Pack (Simplified Chi...      RM 20.00\n",
              "2  Dreaming Canvas (Simplified Chinese, English, ...      RM 20.00\n",
              "3   Fluxteria (English/Chinese/Korean/Japanese Ver.)      RM 20.00\n",
              "4  JigSaw Abundance (English/Chinese/Korean/Japan...      RM 20.00"
            ]
          },
          "metadata": {
            "tags": []
          },
          "execution_count": 13
        }
      ]
    },
    {
      "cell_type": "code",
      "metadata": {
        "id": "Wf1tJro82M05"
      },
      "source": [
        "#store the data into specify csv file\n",
        "df.to_csv(\"WebScraping.csv\") "
      ],
      "execution_count": 14,
      "outputs": []
    }
  ]
}